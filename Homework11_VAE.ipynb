{
 "cells": [
  {
   "cell_type": "markdown",
   "metadata": {},
   "source": [
    "# VAE"
   ]
  },
  {
   "cell_type": "code",
   "execution_count": 1,
   "metadata": {},
   "outputs": [
    {
     "name": "stdout",
     "output_type": "stream",
     "text": [
      "env: KERAS_BACKEND=tensorflow\n"
     ]
    }
   ],
   "source": [
    "%env KERAS_BACKEND=tensorflow"
   ]
  },
  {
   "cell_type": "markdown",
   "metadata": {},
   "source": [
    "## import packages"
   ]
  },
  {
   "cell_type": "code",
   "execution_count": 3,
   "metadata": {},
   "outputs": [],
   "source": [
    "import numpy as np\n",
    "import matplotlib.pyplot as plt\n",
    "\n",
    "from ipywidgets import interact, FloatSlider"
   ]
  },
  {
   "cell_type": "markdown",
   "metadata": {},
   "source": [
    "## import keras packages"
   ]
  },
  {
   "cell_type": "code",
   "execution_count": 10,
   "metadata": {},
   "outputs": [],
   "source": [
    "from keras.models import Model\n",
    "from keras.layers import Input, Lambda, concatenate\n",
    "from keras.layers import Dense\n",
    "from keras.optimizers import SGD, Adam\n",
    "from keras import metrics\n",
    "from keras.utils import np_utils\n",
    "from keras import backend as K"
   ]
  },
  {
   "cell_type": "markdown",
   "metadata": {},
   "source": [
    "## load dataset MNIST"
   ]
  },
  {
   "cell_type": "code",
   "execution_count": 48,
   "metadata": {},
   "outputs": [],
   "source": [
    "from keras.datasets import mnist\n",
    "(x_train0, _), _ = mnist.load_data()\n",
    "\n",
    "x_train = x_train0.reshape(60000, -1)\n",
    "\n",
    "x_train -= x_train.min()\n",
    "# x_train /= x_train.max() # invalid for type of x_train being 'uint8'\n",
    "x_train = x_train / x_train.max()"
   ]
  },
  {
   "cell_type": "markdown",
   "metadata": {},
   "source": [
    "## construct VAE"
   ]
  },
  {
   "cell_type": "markdown",
   "metadata": {},
   "source": [
    "### graph\n",
    "Because 2-dimension latent layer is done in the class, I try 5-dimension one.\n",
    "[<img src = \"https://i.imgur.com/UXa4FVg.png\" style=\"width:500px;\">](https://hackmd.io/s/S1hBAL4TV)\n",
    "<div style=\"text-align:right\">(Click the image to see the source code.)</div>"
   ]
  },
  {
   "cell_type": "code",
   "execution_count": 17,
   "metadata": {},
   "outputs": [],
   "source": [
    "enc = Dense(100, activation='sigmoid')\n",
    "\n",
    "enc_mean = Dense(5)\n",
    "enc_logvar = Dense(5)\n",
    "\n",
    "dec = Dense(100, activation='sigmoid')\n",
    "\n",
    "dec_output = Dense(784, activation='sigmoid')"
   ]
  },
  {
   "cell_type": "markdown",
   "metadata": {},
   "source": [
    "#### define nomral sampling function"
   ]
  },
  {
   "cell_type": "code",
   "execution_count": 18,
   "metadata": {},
   "outputs": [],
   "source": [
    "def normalSampling(argv):\n",
    "    z_mean, zlogvar = argv\n",
    "    eps = K.random_normal(shape=(5,), mean=0., stddev=1)\n",
    "    return z_mean + K.exp(z_logvar / 2) * eps"
   ]
  },
  {
   "cell_type": "code",
   "execution_count": 19,
   "metadata": {},
   "outputs": [],
   "source": [
    "x = Input(shape=(784,))\n",
    "\n",
    "enc_x = enc(x)\n",
    "\n",
    "z_mean = enc_mean(enc_x)\n",
    "z_logvar = enc_logvar(enc_x)\n",
    "\n",
    "z = Lambda(normalSampling, output_shape=(5,))([z_mean, z_logvar])\n",
    "\n",
    "dec_z = dec(z)\n",
    "\n",
    "x_hat = dec_output(dec_z)"
   ]
  },
  {
   "cell_type": "code",
   "execution_count": 20,
   "metadata": {},
   "outputs": [
    {
     "name": "stdout",
     "output_type": "stream",
     "text": [
      "__________________________________________________________________________________________________\n",
      "Layer (type)                    Output Shape         Param #     Connected to                     \n",
      "==================================================================================================\n",
      "input_3 (InputLayer)            (None, 784)          0                                            \n",
      "__________________________________________________________________________________________________\n",
      "dense_6 (Dense)                 (None, 100)          78500       input_3[0][0]                    \n",
      "__________________________________________________________________________________________________\n",
      "dense_7 (Dense)                 (None, 5)            505         dense_6[0][0]                    \n",
      "__________________________________________________________________________________________________\n",
      "dense_8 (Dense)                 (None, 5)            505         dense_6[0][0]                    \n",
      "__________________________________________________________________________________________________\n",
      "lambda_2 (Lambda)               (None, 5)            0           dense_7[0][0]                    \n",
      "                                                                 dense_8[0][0]                    \n",
      "__________________________________________________________________________________________________\n",
      "dense_9 (Dense)                 (None, 100)          600         lambda_2[0][0]                   \n",
      "__________________________________________________________________________________________________\n",
      "dense_10 (Dense)                (None, 784)          79184       dense_9[0][0]                    \n",
      "==================================================================================================\n",
      "Total params: 159,294\n",
      "Trainable params: 159,294\n",
      "Non-trainable params: 0\n",
      "__________________________________________________________________________________________________\n"
     ]
    }
   ],
   "source": [
    "VAE = Model(x, x_hat)\n",
    "VAE.summary()"
   ]
  },
  {
   "cell_type": "markdown",
   "metadata": {},
   "source": [
    "#### define VAE's loss function"
   ]
  },
  {
   "cell_type": "code",
   "execution_count": 24,
   "metadata": {},
   "outputs": [],
   "source": [
    "def vae_loss(x, x_recon):\n",
    "    recovery_loss = 784 * metrics.binary_crossentropy(x, x_recon)\n",
    "    kl_loss = - 0.5 * K.sum(1 + z_logvar - K.square(z_mean) - K.exp(z_logvar), axis = -1)\n",
    "    return recovery_loss + kl_loss"
   ]
  },
  {
   "cell_type": "code",
   "execution_count": 50,
   "metadata": {},
   "outputs": [],
   "source": [
    "VAE.compile(loss=vae_loss, optimizer=Adam(0.0009487))"
   ]
  },
  {
   "cell_type": "code",
   "execution_count": 51,
   "metadata": {},
   "outputs": [
    {
     "name": "stdout",
     "output_type": "stream",
     "text": [
      "Epoch 1/10\n",
      "60000/60000 [==============================] - 20s 334us/step - loss: 136.6600\n",
      "Epoch 2/10\n",
      "60000/60000 [==============================] - 19s 318us/step - loss: 135.5373\n",
      "Epoch 3/10\n",
      "60000/60000 [==============================] - 18s 307us/step - loss: 134.4680\n",
      "Epoch 4/10\n",
      "60000/60000 [==============================] - 20s 337us/step - loss: 133.6237\n",
      "Epoch 5/10\n",
      "60000/60000 [==============================] - 19s 317us/step - loss: 132.9813\n",
      "Epoch 6/10\n",
      "60000/60000 [==============================] - 16s 275us/step - loss: 132.3249\n",
      "Epoch 7/10\n",
      "60000/60000 [==============================] - 17s 275us/step - loss: 131.8109\n",
      "Epoch 8/10\n",
      "60000/60000 [==============================] - 18s 300us/step - loss: 131.3745\n",
      "Epoch 9/10\n",
      "60000/60000 [==============================] - 20s 325us/step - loss: 130.8938\n",
      "Epoch 10/10\n",
      "60000/60000 [==============================] - 17s 284us/step - loss: 130.5483\n"
     ]
    },
    {
     "data": {
      "text/plain": [
       "<keras.callbacks.History at 0x18a4bd7ac8>"
      ]
     },
     "execution_count": 51,
     "metadata": {},
     "output_type": "execute_result"
    }
   ],
   "source": [
    "VAE.fit(x_train, x_train, batch_size=30, epochs=10)"
   ]
  },
  {
   "cell_type": "markdown",
   "metadata": {},
   "source": [
    "## visualization"
   ]
  },
  {
   "cell_type": "code",
   "execution_count": 52,
   "metadata": {},
   "outputs": [],
   "source": [
    "Encoder = Model(x, z_mean)\n",
    "\n",
    "h = Input(shape=(5,))\n",
    "Decoder = Model(h ,dec_output(dec(h)))"
   ]
  },
  {
   "cell_type": "markdown",
   "metadata": {},
   "source": [
    "Because I have 5 dimension, I skip something that cannot show in 2 dimension. (比較想玩滑桿)"
   ]
  },
  {
   "cell_type": "code",
   "execution_count": 75,
   "metadata": {},
   "outputs": [],
   "source": [
    "def inBetween(t, s):\n",
    "    data_100 = x_train0[idx_100]\n",
    "    data_010 = x_train0[idx_010]\n",
    "    data_001 = x_train0[idx_001]\n",
    "    data_ts = (1 - t - s)*data_100 + t*data_010 + s*data_001\n",
    "    \n",
    "    mu_100 = Encoder.predict(x_train[idx_100:idx_100+1])\n",
    "    mu_010 = Encoder.predict(x_train[idx_010:idx_010+1])\n",
    "    mu_001 = Encoder.predict(x_train[idx_001:idx_001+1])\n",
    "    mu_ts = (1 - t - t)*mu_100 + t*mu_010 + s*mu_001\n",
    "    \n",
    "    pred_100 = Decoder.predict(mu_100).reshape(28,28)\n",
    "    pred_010 = Decoder.predict(mu_010).reshape(28,28)\n",
    "    pred_001 = Decoder.predict(mu_001).reshape(28,28)\n",
    "    pred_ts = Decoder.predict(mu_ts).reshape(28, 28)\n",
    "    \n",
    "#     plt.figure(figsize=(10, 5))\n",
    "#     ax1 = plt.subplot(2, 1, 2)\n",
    "#     ax1.scatter(mu_100[0], mu_100[1])\n",
    "#     ax1.scatter(mu_010[0], mu_010[1])\n",
    "#     ax1.scatter(mu_001[0], mu_100[1])\n",
    "#     ax1.scatter(mu_ts[0], mu_ts[1])\n",
    "\n",
    "    ax2 = plt.subplot(2, 4, 1)\n",
    "    ax2.imshow(data_100, cmap='Greys')\n",
    "\n",
    "    ax3 = plt.subplot(2, 4, 2)\n",
    "    ax3.imshow(data_010, cmap='Greys')\n",
    "    \n",
    "    ax3 = plt.subplot(2, 4, 3)\n",
    "    ax3.imshow(data_001, cmap='Greys')\n",
    "\n",
    "    ax4 = plt.subplot(2, 4, 4)\n",
    "    ax4.imshow(data_ts, cmap='Greys')\n",
    "    \n",
    "    ax2 = plt.subplot(2, 4, 5)\n",
    "    ax2.imshow(pred_100, cmap='Greys')\n",
    "\n",
    "    ax3 = plt.subplot(2, 4, 6)\n",
    "    ax3.imshow(pred_010, cmap='Greys')\n",
    "    \n",
    "    ax3 = plt.subplot(2, 4, 7)\n",
    "    ax3.imshow(pred_001, cmap='Greys')\n",
    "\n",
    "    ax4 = plt.subplot(2, 4, 8)\n",
    "    ax4.imshow(pred_ts, cmap='Greys')"
   ]
  },
  {
   "cell_type": "code",
   "execution_count": 83,
   "metadata": {},
   "outputs": [
    {
     "data": {
      "application/vnd.jupyter.widget-view+json": {
       "model_id": "1f5f90c696aa4cb49f57315ce1b86769",
       "version_major": 2,
       "version_minor": 0
      },
      "text/plain": [
       "interactive(children=(FloatSlider(value=0.5, description='t', max=1.0), FloatSlider(value=0.5, description='s'…"
      ]
     },
     "metadata": {},
     "output_type": "display_data"
    },
    {
     "data": {
      "text/plain": [
       "<function __main__.inBetween(t, s)>"
      ]
     },
     "execution_count": 83,
     "metadata": {},
     "output_type": "execute_result"
    }
   ],
   "source": [
    "idx_100, idx_010, idx_001 = np.random.randint(x_train.shape[0], size=3)\n",
    "interact(inBetween, \n",
    "         t=FloatSlider(value=0.5, min=0, max=1., step=0.1),\n",
    "         s=FloatSlider(value=0.5, min=0, max=1., step=0.1))"
   ]
  },
  {
   "cell_type": "code",
   "execution_count": 84,
   "metadata": {},
   "outputs": [
    {
     "data": {
      "image/png": "[encoded data removed]",
      "text/plain": [
       "<Figure size 432x288 with 8 Axes>"
      ]
     },
     "metadata": {
      "needs_background": "light"
     },
     "output_type": "display_data"
    }
   ],
   "source": [
    "# interact cannot be shown in nbviewer so call the function directly\n",
    "inBetween(0.2, 0.4)"
   ]
  },
  {
   "cell_type": "markdown",
   "metadata": {},
   "source": [
    "#### 上圖說明\n",
    "1. \n",
    "<table style=\"text-align:center;width:700px;border-collapse:collapse;\">\n",
    "   <tr>\n",
    "        <td style=\"width:20%;\">上排是原始資料:</td>\n",
    "        <td style=\"width:12%;\">圖片$A$</td>\n",
    "        <td style=\"width:12%;\">圖片$B$</td>\n",
    "        <td style=\"width:12%;\">圖片$C$</td>\n",
    "        <td style=\"width:41%;\">$(1 - t - s)A + t B + s C$</td>\n",
    "    <tr>\n",
    "        <td>下排是VAE的結果:</td>\n",
    "        <td>$Dec(Enc(A))$</td>\n",
    "        <td>$Dec(Enc(B))$</td>\n",
    "        <td>$Dec(Enc(C))$</td>\n",
    "        <td>$Dec( (1-t-s)Enc(A) + tEnc(B) + sEnc(C) )$</td>\n",
    "</table>\n",
    "2. 雖然稱為滑桿，但滑過去的話每個點都要算，會跑很久，建議用點的"
   ]
  }
 ],
 "metadata": {
  "kernelspec": {
   "display_name": "Python 3",
   "language": "python",
   "name": "python3"
  },
  "language_info": {
   "codemirror_mode": {
    "name": "ipython",
    "version": 3
   },
   "file_extension": ".py",
   "mimetype": "text/x-python",
   "name": "python",
   "nbconvert_exporter": "python",
   "pygments_lexer": "ipython3",
   "version": "3.7.3"
  }
 },
 "nbformat": 4,
 "nbformat_minor": 2
}
