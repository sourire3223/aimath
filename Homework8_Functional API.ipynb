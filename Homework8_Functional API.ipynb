{
 "cells": [
  {
   "cell_type": "markdown",
   "metadata": {},
   "source": [
    "# Functional API"
   ]
  },
  {
   "cell_type": "markdown",
   "metadata": {},
   "source": [
    "## import packages"
   ]
  },
  {
   "cell_type": "code",
   "execution_count": 1,
   "metadata": {},
   "outputs": [],
   "source": [
    "%matplotlib inline\n",
    "import matplotlib.pyplot as plt\n",
    "import numpy as np"
   ]
  },
  {
   "cell_type": "markdown",
   "metadata": {},
   "source": [
    "## import keras packages"
   ]
  },
  {
   "cell_type": "code",
   "execution_count": 2,
   "metadata": {},
   "outputs": [
    {
     "name": "stdout",
     "output_type": "stream",
     "text": [
      "env: KERAS_BACKEND=tensorflow\n"
     ]
    },
    {
     "name": "stderr",
     "output_type": "stream",
     "text": [
      "Using TensorFlow backend.\n"
     ]
    }
   ],
   "source": [
    "%env KERAS_BACKEND=tensorflow\n",
    "\n",
    "# Keras functions\n",
    "from keras.models import Sequential, Model\n",
    "from keras.layers import Dense, Activation, Input\n",
    "from keras.layers import concatenate, add\n",
    "from keras.optimizers import SGD, Adam\n",
    "\n",
    "# Keras dataset\n",
    "from keras.datasets import mnist\n",
    "\n",
    "# Keras utils\n",
    "from keras.utils import np_utils"
   ]
  },
  {
   "cell_type": "markdown",
   "metadata": {},
   "source": [
    "## import dataset MNIST"
   ]
  },
  {
   "cell_type": "code",
   "execution_count": 3,
   "metadata": {},
   "outputs": [],
   "source": [
    "(x_train0, y_train0), (x_test0, y_test0) = mnist.load_data()"
   ]
  },
  {
   "cell_type": "code",
   "execution_count": 4,
   "metadata": {},
   "outputs": [],
   "source": [
    "# 拉直\n",
    "x_train = x_train0.reshape(60000, 784)\n",
    "x_test = x_test0.reshape(10000, 784)\n",
    "# scaling\n",
    "x_test -= x_train.min()\n",
    "x_train -= x_train.min()\n",
    "x_test = x_test/x_train.max()\n",
    "x_train = x_train/x_train.max()\n",
    "# 1-hot-encoding\n",
    "y_train = np_utils.to_categorical(y_train0, 10)\n",
    "y_test = np_utils.to_categorical(y_test0, 10)"
   ]
  },
  {
   "cell_type": "markdown",
   "metadata": {},
   "source": [
    "## Functional API"
   ]
  },
  {
   "cell_type": "markdown",
   "metadata": {},
   "source": [
    "### draw & construct my model"
   ]
  },
  {
   "cell_type": "markdown",
   "metadata": {},
   "source": [
    "My graph in mermaid code(https://hackmd.io/H9F_DIr2Sgqx8IevwuCWQQ?both).\n",
    "```mermaid\n",
    "graph LR\n",
    "input[<br/><br/><br/><br/>784<br/><br/><br/><br/><br/>] --> L11[<br/><br/>300<br/><br/><br/>]\n",
    "input --> L12[<br/><br/>300<br/><br/><br/>]\n",
    "\n",
    "L11 --> L21[<br/>200<br/><br/>]\n",
    "L11 --> L22[<br/>200<br/><br/>]\n",
    "L12 --> L22\n",
    "L12 --> L23[<br/>200<br/><br/>]\n",
    "\n",
    "L21 --> L31[60]\n",
    "L21 --> L32[60]\n",
    "L22 --> L32\n",
    "L22 --> L33[60]\n",
    "L23 --> L33\n",
    "L23 --> L34[60]\n",
    "\n",
    "L31 --> L41[40]\n",
    "L32 --> L41\n",
    "L32 --> L42[40]\n",
    "L33 --> L42\n",
    "L33 --> L43[40]\n",
    "L34 --> L43\n",
    "\n",
    "\n",
    "L41 --> L51[20]\n",
    "L42 --> L51 \n",
    "L42 --> L52[20]\n",
    "L43 --> L52\n",
    "\n",
    "L51 --> output[10]\n",
    "L52 --> output\n",
    "```\n"
   ]
  },
  {
   "cell_type": "code",
   "execution_count": 5,
   "metadata": {},
   "outputs": [
    {
     "name": "stdout",
     "output_type": "stream",
     "text": [
      "WARNING:tensorflow:From D:\\programming\\Anaconda\\lib\\site-packages\\tensorflow\\python\\framework\\op_def_library.py:263: colocate_with (from tensorflow.python.framework.ops) is deprecated and will be removed in a future version.\n",
      "Instructions for updating:\n",
      "Colocations handled automatically by placer.\n"
     ]
    }
   ],
   "source": [
    "# input layer\n",
    "_input = Input(shape = (784, ))\n",
    "\n",
    "# 1st layer\n",
    "L11 = Dense(500, activation = 'relu')(_input)\n",
    "L12 = Dense(500, activation = 'relu')(_input)\n",
    "\n",
    "# 2nd layer\n",
    "L21 = Dense(400, activation = 'relu')(L11)\n",
    "L22 = Dense(400, activation = 'relu')(concatenate([L11, L12]))\n",
    "L23 = Dense(400, activation = 'relu')(L12)\n",
    "\n",
    "# 3rd layer\n",
    "L31 = Dense(300, activation = 'relu')(L21)\n",
    "L32 = Dense(300, activation = 'relu')(concatenate([L21, L22]))\n",
    "L33 = Dense(300, activation = 'relu')(concatenate([L22, L23]))\n",
    "L34 = Dense(300, activation = 'relu')(L23)\n",
    "\n",
    "# 4th layer\n",
    "L41 = Dense(200, activation = 'relu')(concatenate([L31, L32]))\n",
    "L42 = Dense(200, activation = 'relu')(concatenate([L32, L33]))\n",
    "L43 = Dense(200, activation = 'relu')(concatenate([L33, L34]))\n",
    "\n",
    "# 5th layer\n",
    "L51 = Dense(100, activation = 'relu')(concatenate([L41, L42]))\n",
    "L52 = Dense(100, activation = 'relu')(concatenate([L42, L43]))\n",
    "\n",
    "# output layer\n",
    "_output = Dense(10, activation = 'softmax')(concatenate([L51, L52]))"
   ]
  },
  {
   "cell_type": "code",
   "execution_count": 6,
   "metadata": {
    "scrolled": false
   },
   "outputs": [
    {
     "name": "stdout",
     "output_type": "stream",
     "text": [
      "__________________________________________________________________________________________________\n",
      "Layer (type)                    Output Shape         Param #     Connected to                     \n",
      "==================================================================================================\n",
      "input_1 (InputLayer)            (None, 784)          0                                            \n",
      "__________________________________________________________________________________________________\n",
      "dense_1 (Dense)                 (None, 500)          392500      input_1[0][0]                    \n",
      "__________________________________________________________________________________________________\n",
      "dense_2 (Dense)                 (None, 500)          392500      input_1[0][0]                    \n",
      "__________________________________________________________________________________________________\n",
      "concatenate_1 (Concatenate)     (None, 1000)         0           dense_1[0][0]                    \n",
      "                                                                 dense_2[0][0]                    \n",
      "__________________________________________________________________________________________________\n",
      "dense_3 (Dense)                 (None, 400)          200400      dense_1[0][0]                    \n",
      "__________________________________________________________________________________________________\n",
      "dense_4 (Dense)                 (None, 400)          400400      concatenate_1[0][0]              \n",
      "__________________________________________________________________________________________________\n",
      "dense_5 (Dense)                 (None, 400)          200400      dense_2[0][0]                    \n",
      "__________________________________________________________________________________________________\n",
      "concatenate_2 (Concatenate)     (None, 800)          0           dense_3[0][0]                    \n",
      "                                                                 dense_4[0][0]                    \n",
      "__________________________________________________________________________________________________\n",
      "concatenate_3 (Concatenate)     (None, 800)          0           dense_4[0][0]                    \n",
      "                                                                 dense_5[0][0]                    \n",
      "__________________________________________________________________________________________________\n",
      "dense_6 (Dense)                 (None, 300)          120300      dense_3[0][0]                    \n",
      "__________________________________________________________________________________________________\n",
      "dense_7 (Dense)                 (None, 300)          240300      concatenate_2[0][0]              \n",
      "__________________________________________________________________________________________________\n",
      "dense_8 (Dense)                 (None, 300)          240300      concatenate_3[0][0]              \n",
      "__________________________________________________________________________________________________\n",
      "dense_9 (Dense)                 (None, 300)          120300      dense_5[0][0]                    \n",
      "__________________________________________________________________________________________________\n",
      "concatenate_4 (Concatenate)     (None, 600)          0           dense_6[0][0]                    \n",
      "                                                                 dense_7[0][0]                    \n",
      "__________________________________________________________________________________________________\n",
      "concatenate_5 (Concatenate)     (None, 600)          0           dense_7[0][0]                    \n",
      "                                                                 dense_8[0][0]                    \n",
      "__________________________________________________________________________________________________\n",
      "concatenate_6 (Concatenate)     (None, 600)          0           dense_8[0][0]                    \n",
      "                                                                 dense_9[0][0]                    \n",
      "__________________________________________________________________________________________________\n",
      "dense_10 (Dense)                (None, 200)          120200      concatenate_4[0][0]              \n",
      "__________________________________________________________________________________________________\n",
      "dense_11 (Dense)                (None, 200)          120200      concatenate_5[0][0]              \n",
      "__________________________________________________________________________________________________\n",
      "dense_12 (Dense)                (None, 200)          120200      concatenate_6[0][0]              \n",
      "__________________________________________________________________________________________________\n",
      "concatenate_7 (Concatenate)     (None, 400)          0           dense_10[0][0]                   \n",
      "                                                                 dense_11[0][0]                   \n",
      "__________________________________________________________________________________________________\n",
      "concatenate_8 (Concatenate)     (None, 400)          0           dense_11[0][0]                   \n",
      "                                                                 dense_12[0][0]                   \n",
      "__________________________________________________________________________________________________\n",
      "dense_13 (Dense)                (None, 100)          40100       concatenate_7[0][0]              \n",
      "__________________________________________________________________________________________________\n",
      "dense_14 (Dense)                (None, 100)          40100       concatenate_8[0][0]              \n",
      "__________________________________________________________________________________________________\n",
      "concatenate_9 (Concatenate)     (None, 200)          0           dense_13[0][0]                   \n",
      "                                                                 dense_14[0][0]                   \n",
      "__________________________________________________________________________________________________\n",
      "dense_15 (Dense)                (None, 10)           2010        concatenate_9[0][0]              \n",
      "==================================================================================================\n",
      "Total params: 2,750,210\n",
      "Trainable params: 2,750,210\n",
      "Non-trainable params: 0\n",
      "__________________________________________________________________________________________________\n"
     ]
    }
   ],
   "source": [
    "model = Model(_input, _output)\n",
    "model.summary()"
   ]
  },
  {
   "cell_type": "code",
   "execution_count": 7,
   "metadata": {},
   "outputs": [],
   "source": [
    "model.compile(optimizer = Adam(lr = 0.09487),\n",
    "              loss = \"categorical_crossentropy\",\n",
    "              metrics = ['acc'])"
   ]
  },
  {
   "cell_type": "markdown",
   "metadata": {},
   "source": [
    "### fit the model"
   ]
  },
  {
   "cell_type": "code",
   "execution_count": 8,
   "metadata": {},
   "outputs": [
    {
     "name": "stdout",
     "output_type": "stream",
     "text": [
      "WARNING:tensorflow:From D:\\programming\\Anaconda\\lib\\site-packages\\tensorflow\\python\\ops\\math_ops.py:3066: to_int32 (from tensorflow.python.ops.math_ops) is deprecated and will be removed in a future version.\n",
      "Instructions for updating:\n",
      "Use tf.cast instead.\n",
      "Train on 60000 samples, validate on 10000 samples\n",
      "Epoch 1/20\n",
      "60000/60000 [==============================] - 42s 697us/step - loss: 14.5093 - acc: 0.0986 - val_loss: 14.5740 - val_acc: 0.0958\n",
      "Epoch 2/20\n",
      "60000/60000 [==============================] - 38s 631us/step - loss: 14.5283 - acc: 0.0986 - val_loss: 14.5740 - val_acc: 0.0958\n",
      "Epoch 3/20\n",
      "60000/60000 [==============================] - 37s 623us/step - loss: 14.5283 - acc: 0.0986 - val_loss: 14.5740 - val_acc: 0.0958\n",
      "Epoch 4/20\n",
      "60000/60000 [==============================] - 34s 571us/step - loss: 14.5283 - acc: 0.0986 - val_loss: 14.5740 - val_acc: 0.0958\n",
      "Epoch 5/20\n",
      "60000/60000 [==============================] - 36s 599us/step - loss: 14.5283 - acc: 0.0986 - val_loss: 14.5740 - val_acc: 0.0958\n",
      "Epoch 6/20\n",
      "60000/60000 [==============================] - 38s 626us/step - loss: 14.5283 - acc: 0.0986 - val_loss: 14.5740 - val_acc: 0.0958\n",
      "Epoch 7/20\n",
      "60000/60000 [==============================] - 39s 654us/step - loss: 14.5283 - acc: 0.0986 - val_loss: 14.5740 - val_acc: 0.0958\n",
      "Epoch 8/20\n",
      "60000/60000 [==============================] - 38s 641us/step - loss: 14.5283 - acc: 0.0986 - val_loss: 14.5740 - val_acc: 0.0958\n",
      "Epoch 9/20\n",
      "60000/60000 [==============================] - 35s 587us/step - loss: 14.5283 - acc: 0.0986 - val_loss: 14.5740 - val_acc: 0.0958\n",
      "Epoch 10/20\n",
      "60000/60000 [==============================] - 35s 579us/step - loss: 14.5283 - acc: 0.0986 - val_loss: 14.5740 - val_acc: 0.0958\n",
      "Epoch 11/20\n",
      "60000/60000 [==============================] - 37s 620us/step - loss: 14.5283 - acc: 0.0986 - val_loss: 14.5740 - val_acc: 0.0958\n",
      "Epoch 12/20\n",
      "60000/60000 [==============================] - 41s 679us/step - loss: 14.5283 - acc: 0.0986 - val_loss: 14.5740 - val_acc: 0.0958\n",
      "Epoch 13/20\n",
      "60000/60000 [==============================] - 42s 703us/step - loss: 14.5283 - acc: 0.0986 - val_loss: 14.5740 - val_acc: 0.0958\n",
      "Epoch 14/20\n",
      "60000/60000 [==============================] - 44s 726us/step - loss: 14.5283 - acc: 0.0986 - val_loss: 14.5740 - val_acc: 0.0958\n",
      "Epoch 15/20\n",
      "60000/60000 [==============================] - 41s 688us/step - loss: 14.5283 - acc: 0.0986 - val_loss: 14.5740 - val_acc: 0.0958\n",
      "Epoch 16/20\n",
      "60000/60000 [==============================] - 43s 713us/step - loss: 14.5283 - acc: 0.0986 - val_loss: 14.5740 - val_acc: 0.0958\n",
      "Epoch 17/20\n",
      "60000/60000 [==============================] - 42s 701us/step - loss: 14.5283 - acc: 0.0986 - val_loss: 14.5740 - val_acc: 0.0958\n",
      "Epoch 18/20\n",
      "60000/60000 [==============================] - 43s 710us/step - loss: 14.5283 - acc: 0.0986 - val_loss: 14.5740 - val_acc: 0.0958\n",
      "Epoch 19/20\n",
      "60000/60000 [==============================] - 30s 497us/step - loss: 14.5283 - acc: 0.0986 - val_loss: 14.5740 - val_acc: 0.0958\n",
      "Epoch 20/20\n",
      "60000/60000 [==============================] - 28s 468us/step - loss: 14.5283 - acc: 0.0986 - val_loss: 14.5740 - val_acc: 0.0958\n"
     ]
    },
    {
     "data": {
      "text/plain": [
       "<keras.callbacks.History at 0x48d3753978>"
      ]
     },
     "execution_count": 8,
     "metadata": {},
     "output_type": "execute_result"
    }
   ],
   "source": [
    "model.fit(x_train, y_train,\n",
    "          batch_size = 100,\n",
    "          epochs = 20, \n",
    "          validation_data = (x_test, y_test))"
   ]
  },
  {
   "cell_type": "markdown",
   "metadata": {},
   "source": [
    "### summary"
   ]
  },
  {
   "cell_type": "markdown",
   "metadata": {},
   "source": [
    "The result is about 0.3 professor. The graph seems bad in this case, even if I raise the number of nodes."
   ]
  }
 ],
 "metadata": {
  "kernelspec": {
   "display_name": "Python 3",
   "language": "python",
   "name": "python3"
  },
  "language_info": {
   "codemirror_mode": {
    "name": "ipython",
    "version": 3
   },
   "file_extension": ".py",
   "mimetype": "text/x-python",
   "name": "python",
   "nbconvert_exporter": "python",
   "pygments_lexer": "ipython3",
   "version": "3.7.3"
  }
 },
 "nbformat": 4,
 "nbformat_minor": 2
}
