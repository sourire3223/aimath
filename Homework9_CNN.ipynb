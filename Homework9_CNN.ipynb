{
 "cells": [
  {
   "cell_type": "markdown",
   "metadata": {},
   "source": [
    "# Convolutional Neural Network"
   ]
  },
  {
   "cell_type": "markdown",
   "metadata": {},
   "source": [
    "## import package(s)"
   ]
  },
  {
   "cell_type": "code",
   "execution_count": 2,
   "metadata": {},
   "outputs": [],
   "source": [
    "import numpy as np"
   ]
  },
  {
   "cell_type": "markdown",
   "metadata": {},
   "source": [
    "# import keras packages"
   ]
  },
  {
   "cell_type": "code",
   "execution_count": 3,
   "metadata": {},
   "outputs": [
    {
     "name": "stderr",
     "output_type": "stream",
     "text": [
      "Using TensorFlow backend.\n"
     ]
    }
   ],
   "source": [
    "%env KERAS_BACKEND=tensorflow\n",
    "from keras.datasets import mnist\n",
    "from keras.utils import np_utils    # to_categorical\n",
    "\n",
    "from keras.models import Sequential\n",
    "from keras.layers import Dense, Activation\n",
    "from keras.layers import Conv2D, MaxPool2D, Flatten        # CNN\n",
    "from keras.optimizers import Adam"
   ]
  },
  {
   "cell_type": "markdown",
   "metadata": {},
   "source": [
    "# load dataset MNIST"
   ]
  },
  {
   "cell_type": "code",
   "execution_count": 4,
   "metadata": {},
   "outputs": [],
   "source": [
    "(x_train0, y_train0), (x_test0, y_test0) = mnist.load_data()"
   ]
  },
  {
   "cell_type": "markdown",
   "metadata": {},
   "source": [
    "# reshape the data"
   ]
  },
  {
   "cell_type": "code",
   "execution_count": 5,
   "metadata": {},
   "outputs": [],
   "source": [
    "# CNN wnats (28, 28, 1)\n",
    "x_train = x_train0.reshape(60000, 28, 28, 1)\n",
    "x_test = x_test0.reshape(10000, 28, 28, 1)"
   ]
  },
  {
   "cell_type": "code",
   "execution_count": 6,
   "metadata": {},
   "outputs": [],
   "source": [
    "# normalize for stable\n",
    "x_train = x_train / 255\n",
    "x_test = x_test / 255"
   ]
  },
  {
   "cell_type": "code",
   "execution_count": 7,
   "metadata": {},
   "outputs": [],
   "source": [
    "y_train = np_utils.to_categorical(y_train0, 10)\n",
    "y_test = np_utils.to_categorical(y_test0, 10)"
   ]
  },
  {
   "cell_type": "markdown",
   "metadata": {},
   "source": [
    "# construct the model"
   ]
  },
  {
   "cell_type": "code",
   "execution_count": 8,
   "metadata": {},
   "outputs": [
    {
     "name": "stdout",
     "output_type": "stream",
     "text": [
      "WARNING:tensorflow:From D:\\programming\\Anaconda\\lib\\site-packages\\tensorflow\\python\\framework\\op_def_library.py:263: colocate_with (from tensorflow.python.framework.ops) is deprecated and will be removed in a future version.\n",
      "Instructions for updating:\n",
      "Colocations handled automatically by placer.\n",
      "_________________________________________________________________\n",
      "Layer (type)                 Output Shape              Param #   \n",
      "=================================================================\n",
      "conv2d_1 (Conv2D)            (None, 28, 28, 4)         148       \n",
      "_________________________________________________________________\n",
      "max_pooling2d_1 (MaxPooling2 (None, 14, 14, 4)         0         \n",
      "_________________________________________________________________\n",
      "conv2d_2 (Conv2D)            (None, 14, 14, 8)         808       \n",
      "_________________________________________________________________\n",
      "max_pooling2d_2 (MaxPooling2 (None, 7, 7, 8)           0         \n",
      "_________________________________________________________________\n",
      "conv2d_3 (Conv2D)            (None, 7, 7, 16)          2064      \n",
      "_________________________________________________________________\n",
      "max_pooling2d_3 (MaxPooling2 (None, 3, 3, 16)          0         \n",
      "_________________________________________________________________\n",
      "flatten_1 (Flatten)          (None, 144)               0         \n",
      "_________________________________________________________________\n",
      "dense_1 (Dense)              (None, 87)                12615     \n",
      "_________________________________________________________________\n",
      "dense_2 (Dense)              (None, 10)                880       \n",
      "=================================================================\n",
      "Total params: 16,515\n",
      "Trainable params: 16,515\n",
      "Non-trainable params: 0\n",
      "_________________________________________________________________\n"
     ]
    }
   ],
   "source": [
    "model = Sequential([Conv2D(4, (6,6), padding='same', input_shape=(28, 28, 1), activation='relu'),\n",
    "                    MaxPool2D(pool_size=(2, 2)),\n",
    "                    Conv2D(8, (5,5), padding='same', activation='relu'),\n",
    "                    MaxPool2D(pool_size=(2, 2)),\n",
    "                    Conv2D(16, (4,4), padding='same', activation='relu'),\n",
    "                    MaxPool2D(pool_size=(2, 2)),\n",
    "                    Flatten(),\n",
    "                    Dense(87, activation='relu'),\n",
    "                    Dense(10, activation='softmax')])\n",
    "model.summary()"
   ]
  },
  {
   "cell_type": "code",
   "execution_count": 9,
   "metadata": {},
   "outputs": [],
   "source": [
    "model.compile(loss='categorical_crossentropy',\n",
    "              optimizer=Adam(lr=0.0009487), \n",
    "              metrics=['acc'])"
   ]
  },
  {
   "cell_type": "code",
   "execution_count": 10,
   "metadata": {},
   "outputs": [
    {
     "name": "stdout",
     "output_type": "stream",
     "text": [
      "WARNING:tensorflow:From D:\\programming\\Anaconda\\lib\\site-packages\\tensorflow\\python\\ops\\math_ops.py:3066: to_int32 (from tensorflow.python.ops.math_ops) is deprecated and will be removed in a future version.\n",
      "Instructions for updating:\n",
      "Use tf.cast instead.\n",
      "Train on 60000 samples, validate on 10000 samples\n",
      "Epoch 1/10\n",
      "60000/60000 [==============================] - 35s 590us/step - loss: 0.4044 - acc: 0.8750 - val_loss: 0.1142 - val_acc: 0.9647\n",
      "Epoch 2/10\n",
      "60000/60000 [==============================] - 34s 564us/step - loss: 0.1100 - acc: 0.9656 - val_loss: 0.0704 - val_acc: 0.9774\n",
      "Epoch 3/10\n",
      "60000/60000 [==============================] - 34s 566us/step - loss: 0.0767 - acc: 0.9763 - val_loss: 0.0586 - val_acc: 0.9823\n",
      "Epoch 4/10\n",
      "60000/60000 [==============================] - 34s 562us/step - loss: 0.0632 - acc: 0.9804 - val_loss: 0.0460 - val_acc: 0.9857\n",
      "Epoch 5/10\n",
      "60000/60000 [==============================] - 34s 564us/step - loss: 0.0535 - acc: 0.9830 - val_loss: 0.0607 - val_acc: 0.9814\n",
      "Epoch 6/10\n",
      "60000/60000 [==============================] - 34s 564us/step - loss: 0.0462 - acc: 0.9851 - val_loss: 0.0521 - val_acc: 0.9841\n",
      "Epoch 7/10\n",
      "60000/60000 [==============================] - 34s 564us/step - loss: 0.0422 - acc: 0.9866 - val_loss: 0.0428 - val_acc: 0.9859\n",
      "Epoch 8/10\n",
      "60000/60000 [==============================] - 34s 563us/step - loss: 0.0362 - acc: 0.9882 - val_loss: 0.0395 - val_acc: 0.9873\n",
      "Epoch 9/10\n",
      "60000/60000 [==============================] - 34s 565us/step - loss: 0.0329 - acc: 0.9891 - val_loss: 0.0376 - val_acc: 0.9882\n",
      "Epoch 10/10\n",
      "60000/60000 [==============================] - 34s 572us/step - loss: 0.0300 - acc: 0.9900 - val_loss: 0.0374 - val_acc: 0.9877\n"
     ]
    },
    {
     "data": {
      "text/plain": [
       "<keras.callbacks.History at 0xf03786f128>"
      ]
     },
     "execution_count": 10,
     "metadata": {},
     "output_type": "execute_result"
    }
   ],
   "source": [
    "model.fit(x_train, y_train, \n",
    "          batch_size=100, \n",
    "          epochs=10, \n",
    "          validation_data=(x_test, y_test))"
   ]
  },
  {
   "cell_type": "markdown",
   "metadata": {},
   "source": [
    "# summary"
   ]
  },
  {
   "cell_type": "markdown",
   "metadata": {},
   "source": [
    "1. learning rate 設錯還是讓我餘悸猶存\n",
    "2. CNN可以用比較少的參數（少很多）得到還不錯的正確率！！！"
   ]
  }
 ],
 "metadata": {
  "kernelspec": {
   "display_name": "Python 3",
   "language": "python",
   "name": "python3"
  },
  "language_info": {
   "codemirror_mode": {
    "name": "ipython",
    "version": 3
   },
   "file_extension": ".py",
   "mimetype": "text/x-python",
   "name": "python",
   "nbconvert_exporter": "python",
   "pygments_lexer": "ipython3",
   "version": "3.7.3"
  }
 },
 "nbformat": 4,
 "nbformat_minor": 2
}
