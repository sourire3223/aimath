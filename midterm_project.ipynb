{
 "cells": [
  {
   "cell_type": "markdown",
   "metadata": {},
   "source": [
    "# MineSweeper With A MineSweeperSolver v1.0(?)"
   ]
  },
  {
   "cell_type": "markdown",
   "metadata": {},
   "source": [
    "- 原本我覺得寫一個遊戲很酷，所以就嘗試寫了一個簡單、陽春的踩地雷。因為某些緣故，它的上和下接起來了，左和右也連在一起！\n",
    "- 後來我覺得寫一個玩遊戲的程式更酷，所以就嘗試解這個循環版的踩地雷！\n",
    "- 或許未來會有些學習的方法能應用上，計算地雷的機率、或是找尋特定pattern的解法。"
   ]
  },
  {
   "cell_type": "markdown",
   "metadata": {},
   "source": [
    "## import packages"
   ]
  },
  {
   "cell_type": "code",
   "execution_count": 1,
   "metadata": {},
   "outputs": [],
   "source": [
    "import random\n",
    "from datetime import datetime"
   ]
  },
  {
   "cell_type": "markdown",
   "metadata": {},
   "source": [
    "## enum"
   ]
  },
  {
   "cell_type": "code",
   "execution_count": 2,
   "metadata": {},
   "outputs": [],
   "source": [
    "class state:\n",
    "    ZERO = 0\n",
    "    ONE = 1\n",
    "    TWO = 2\n",
    "    THREE = 3\n",
    "    FOUR = 4\n",
    "    FIVE = 5\n",
    "    SIX = 6\n",
    "    SEVEN = 7\n",
    "    EIGHT = 8\n",
    "    MINE = -1\n",
    "    FLAG = -2\n",
    "    COVERED = 9"
   ]
  },
  {
   "cell_type": "markdown",
   "metadata": {},
   "source": [
    "## class - MineSweeperCircular(Main Game)"
   ]
  },
  {
   "cell_type": "markdown",
   "metadata": {},
   "source": [
    "<p style=\"font-size:2pt\">主要設計給程式玩，所以暫時沒有UI</p>"
   ]
  },
  {
   "cell_type": "code",
   "execution_count": 3,
   "metadata": {},
   "outputs": [],
   "source": [
    "class MineSweeperCircular:\n",
    "    def __init__(self, difficulty = 'beginner', start_position = None):\n",
    "        self.difficulty = difficulty\n",
    "        self.initialize(start_position = start_position)\n",
    "    def initialize(self, difficulty = None, start_position = None):\n",
    "        random.seed(datetime.now())\n",
    "        \n",
    "        if difficulty != None:\n",
    "            self.difficulty = difficulty\n",
    "        if self.difficulty == 'beginner':\n",
    "            self.size = (8, 8)\n",
    "            self.num_mine = 10\n",
    "        elif self.difficulty == 'intermediate':\n",
    "            self.size = (16, 16)\n",
    "            self.num_mine = 40\n",
    "        elif self.difficulty == 'expert':\n",
    "            self.size = (24, 24)\n",
    "            self.num_mine = 99\n",
    "        \n",
    "        self.real_board = [[0]*self.size[1] for i in range(self.size[0])]\n",
    "        self.mask_board = [[state.COVERED]*self.size[1] for i in range(self.size[0])]\n",
    "        self.num_flag = 0\n",
    "        self.num_covered = self.size[0] * self.size[1]\n",
    "        self.lose = False\n",
    "        \n",
    "        # set mines\n",
    "        if start_position == None:\n",
    "            for i in random.sample(range(self.size[0] * self.size[1]), self.num_mine):\n",
    "                self.real_board[i // self.size[1]][i % self.size[1]] = state.MINE\n",
    "        else:\n",
    "            num_start_position = start_position[0] * self.size[1] + start_position[1] \n",
    "            for i in random.sample(range(self.size[0] * self.size[1] - 1), self.num_mine):\n",
    "                self.real_board[(i if i < num_start_position else i + 1) // self.size[0]][(i if i < num_start_position else i + 1) % self.size[1]] = state.MINE\n",
    "        # set numbers\n",
    "        for i in range(self.size[0]):\n",
    "            for j in range(self.size[1]):\n",
    "                if self.real_board[i][j] != state.MINE:\n",
    "                    for di in [-1, 0, 1]:\n",
    "                        for dj in [-1, 0, 1]:\n",
    "                            self.real_board[i][j] += (self.real_board[(i + di) % self.size[0]][(j + dj) % self.size[1]] == state.MINE)\n",
    "        # start_position\n",
    "        if start_position != None:\n",
    "            self.uncover(start_position)\n",
    "                    \n",
    "                \n",
    "        \n",
    "    def uncover(self, position):\n",
    "        position = (position[0] % self.size[0], position[1] % self.size[1])\n",
    "        if self.mask_board[position[0]][position[1]] != 9:\n",
    "            return    # do nothing\n",
    "        if self.real_board[position[0]][position[1]] == state.MINE:\n",
    "            self.mask_board[position[0]][position[1]] = state.MINE\n",
    "            self.lose = True\n",
    "            print(\"BOOM!!!!!\")\n",
    "            print(\"If you want to restart, type : >>> s.initialize(difficulty = ??)\")\n",
    "            return\n",
    "        self.num_covered -= 1\n",
    "        if self.real_board[position[0]][position[1]] == 0:\n",
    "            self.mask_board[position[0]][position[1]] = 0\n",
    "            for di in [-1, 0, 1]:\n",
    "                for dj in [-1, 0, 1]:\n",
    "                    self.uncover((position[0] + di, position[1] + dj))\n",
    "        else:\n",
    "            self.mask_board[position[0]][position[1]] = self.real_board[position[0]][position[1]]\n",
    "            \n",
    "        if self.isWin():\n",
    "            print(\"You Win!!!!!\")\n",
    "            print(\"If you want to restart, type : >>> s.initialize(difficulty = ??)\")\n",
    "    def flag(self, position):\n",
    "        self.mask_board[position[0]][position[1]] = state.FLAG\n",
    "        self.num_flag += 1\n",
    "    def isWin(self):\n",
    "        return self.num_covered == self.num_mine\n",
    "    def isLose(self):\n",
    "        return self.lose\n",
    "    def display(self):\n",
    "        print(self.__str__())\n",
    "    def cheat(self):\n",
    "        s = \"CHEAT\\n     \"\n",
    "        for j in range(self.size[1]):\n",
    "            s += \" \" + (str(j) if j > 9 else \" \" + str(j))\n",
    "        s += \"\\n     \"\n",
    "        for j in range(self.size[1]):\n",
    "            s += \"___\" \n",
    "        s += \"\\n\\n\"\n",
    "        for i in range(self.size[0]):\n",
    "            s += (str(i) if i > 9 else \" \" + str(i)) + \"|  \"\n",
    "            for j in range(self.size[1]):\n",
    "                if self.real_board[i][j] == state.MINE:\n",
    "                    s += \"  *\"\n",
    "                else:\n",
    "                    s += \"  \" + str(self.real_board[i][j]) \n",
    "            s += \"\\n\"\n",
    "        print(s + \"\\n\\n\")\n",
    "    def __str__(self):\n",
    "        s = \"MineSweeperCircular\\n     \"\n",
    "        for j in range(self.size[1]):\n",
    "            s += \" \" + (str(j) if j > 9 else \" \" + str(j))\n",
    "        s += \"\\n     \"\n",
    "        for j in range(self.size[1]):\n",
    "            s += \"___\" \n",
    "        s += \"\\n\\n\"\n",
    "        for i in range(self.size[0]):\n",
    "            s += (str(i) if i > 9 else \" \" + str(i)) + \"|  \"\n",
    "            for j in range(self.size[1]):\n",
    "                if self.mask_board[i][j] == state.COVERED:\n",
    "                    s += \"  .\"\n",
    "                elif self.mask_board[i][j] == state.FLAG:\n",
    "                    s += \"  f\"\n",
    "                elif self.mask_board[i][j] == state.MINE:\n",
    "                    s += \"  *\"\n",
    "                else:\n",
    "                    s += \"  \" + str(self.mask_board[i][j]) \n",
    "            s += \"\\n\"\n",
    "        s += \"\\n\\n剩餘地雷：\" + str(self.num_mine - self.num_flag) + \"\\n\\n\"\n",
    "        return s\n",
    "                \n",
    "    def __repr__(self):\n",
    "        \n",
    "        return self.__str__()\n",
    "    \n",
    "        "
   ]
  },
  {
   "cell_type": "markdown",
   "metadata": {},
   "source": [
    "### 展示一下我寫的踩地雷 -- 起始版面及解答"
   ]
  },
  {
   "cell_type": "code",
   "execution_count": 4,
   "metadata": {},
   "outputs": [
    {
     "name": "stdout",
     "output_type": "stream",
     "text": [
      "MineSweeperCircular\n",
      "       0  1  2  3  4  5  6  7  8  9 10 11 12 13 14 15 16 17 18 19 20 21 22 23\n",
      "     ________________________________________________________________________\n",
      "\n",
      " 0|    0  0  1  2  .  .  .  .  .  .  .  .  .  .  .  .  .  .  .  .  .  .  2  1\n",
      " 1|    0  1  2  .  .  .  .  .  .  .  .  .  .  .  .  .  .  .  .  .  .  2  1  0\n",
      " 2|    1  2  .  .  .  .  .  .  .  .  .  .  .  .  .  .  .  .  .  .  .  2  0  0\n",
      " 3|    1  .  .  .  .  .  .  .  .  .  .  .  .  .  .  .  .  .  .  .  .  1  0  0\n",
      " 4|    2  .  .  .  .  .  .  .  .  .  .  .  .  .  .  .  .  .  .  .  .  2  2  2\n",
      " 5|    .  .  .  .  .  .  .  .  .  .  .  .  .  .  .  .  .  .  .  .  .  .  .  .\n",
      " 6|    .  .  .  .  .  .  .  .  .  .  .  .  .  .  .  .  .  .  .  .  .  .  .  .\n",
      " 7|    .  .  .  .  .  .  .  .  .  .  .  .  .  .  .  .  .  .  .  .  .  .  .  .\n",
      " 8|    .  .  .  .  .  .  .  .  .  .  .  .  .  .  .  .  .  .  .  .  .  .  .  .\n",
      " 9|    .  .  .  .  .  .  .  .  .  .  .  .  .  .  .  .  .  .  .  .  .  .  .  .\n",
      "10|    .  .  .  .  .  .  .  .  .  .  .  .  .  .  .  .  .  .  .  .  .  .  .  .\n",
      "11|    .  .  .  .  .  .  .  .  .  .  .  .  .  .  .  .  .  .  .  .  .  .  .  .\n",
      "12|    .  .  .  .  .  .  .  .  .  .  .  .  .  .  .  .  .  .  .  .  .  .  .  .\n",
      "13|    .  .  .  .  .  .  .  .  .  .  .  .  .  .  .  .  .  .  .  .  .  .  .  .\n",
      "14|    .  .  .  .  .  .  .  .  .  .  .  .  .  .  .  .  .  .  .  .  .  .  .  .\n",
      "15|    .  .  .  .  .  .  .  .  .  .  .  .  .  .  .  .  .  .  .  .  .  .  .  .\n",
      "16|    .  .  .  .  .  .  .  .  .  .  .  .  .  .  .  .  .  .  .  .  .  .  .  .\n",
      "17|    .  .  .  .  .  .  .  .  .  .  .  .  .  .  .  .  .  .  .  .  .  .  .  .\n",
      "18|    .  .  .  .  .  .  .  .  .  .  .  .  .  .  .  .  .  .  .  .  .  .  .  .\n",
      "19|    1  2  .  .  .  .  .  .  .  .  .  .  .  .  .  .  .  .  .  .  .  .  .  2\n",
      "20|    0  1  1  2  .  .  .  .  .  .  .  .  .  .  .  .  .  .  .  .  .  .  .  1\n",
      "21|    0  0  0  2  .  .  .  .  .  .  .  .  .  .  .  .  .  .  .  .  .  .  .  1\n",
      "22|    0  0  0  2  .  .  .  .  .  .  .  .  .  .  .  .  .  .  .  .  .  .  .  2\n",
      "23|    0  0  0  2  .  .  .  .  .  .  .  .  .  .  .  .  .  .  .  .  .  .  .  2\n",
      "\n",
      "\n",
      "剩餘地雷：99\n",
      "\n",
      "\n",
      "CHEAT\n",
      "       0  1  2  3  4  5  6  7  8  9 10 11 12 13 14 15 16 17 18 19 20 21 22 23\n",
      "     ________________________________________________________________________\n",
      "\n",
      " 0|    0  0  1  2  3  2  1  1  *  2  *  2  1  1  0  0  2  *  4  4  4  *  2  1\n",
      " 1|    0  1  2  *  2  *  1  2  3  4  2  1  1  1  1  0  2  *  *  *  *  2  1  0\n",
      " 2|    1  2  *  2  2  2  2  2  *  *  1  0  1  *  2  1  2  2  3  4  3  2  0  0\n",
      " 3|    1  *  2  2  1  2  *  3  3  3  2  1  2  1  2  *  2  1  0  1  *  1  0  0\n",
      " 4|    2  1  2  2  *  3  2  2  *  1  1  *  1  0  1  3  *  2  0  1  1  2  2  2\n",
      " 5|    1  0  2  *  5  *  1  1  1  1  1  1  1  0  0  2  *  2  0  0  0  1  *  *\n",
      " 6|    1  0  2  *  *  2  1  0  0  1  2  2  1  0  0  2  2  2  0  0  0  1  2  2\n",
      " 7|    1  1  2  2  2  2  2  2  1  1  *  *  1  0  1  2  *  1  0  0  0  0  0  0\n",
      " 8|    1  *  3  2  1  1  *  *  1  1  2  2  1  0  1  *  2  1  0  0  0  0  0  0\n",
      " 9|    2  3  *  *  1  1  2  2  1  1  1  1  1  1  3  2  2  0  0  0  1  1  1  1\n",
      "10|    *  2  3  3  2  0  0  0  0  1  *  2  2  *  2  *  1  1  1  1  1  *  1  1\n",
      "11|    1  1  1  *  1  0  1  1  1  1  2  *  4  3  3  1  1  1  *  1  2  2  2  1\n",
      "12|    0  0  1  1  1  0  1  *  1  0  1  2  *  *  1  0  1  2  2  1  1  *  1  0\n",
      "13|    0  0  0  0  1  1  2  1  1  0  0  1  2  3  2  1  1  *  1  1  2  2  1  0\n",
      "14|    2  1  1  0  1  *  2  1  2  1  1  1  1  2  *  1  1  2  2  3  *  2  1  1\n",
      "15|    2  *  1  1  2  2  3  *  3  *  1  1  *  2  1  1  0  1  *  3  *  2  1  *\n",
      "16|    2  1  1  2  *  2  2  *  4  2  2  1  1  1  0  0  0  1  1  2  2  2  2  1\n",
      "17|    1  1  1  4  *  3  2  2  3  *  2  1  0  0  0  1  2  2  1  0  2  *  3  1\n",
      "18|    1  2  *  4  *  3  2  *  2  3  *  3  1  0  0  1  *  *  2  0  3  *  5  *\n",
      "19|    1  2  *  4  3  *  3  2  1  2  *  *  2  0  0  1  3  *  2  0  2  *  *  2\n",
      "20|    0  1  1  2  *  5  *  3  1  1  3  *  2  0  0  1  2  3  2  2  2  3  2  1\n",
      "21|    0  0  0  2  4  *  *  *  1  0  1  1  1  0  1  2  *  3  *  2  *  2  1  1\n",
      "22|    0  0  0  2  *  *  4  2  1  0  0  1  1  1  1  *  3  *  2  3  2  4  *  2\n",
      "23|    0  0  0  2  *  3  1  1  1  2  1  2  *  1  1  1  3  2  2  1  *  4  *  2\n",
      "\n",
      "\n",
      "\n"
     ]
    }
   ],
   "source": [
    "m = MineSweeperCircular(difficulty = 'expert', start_position = (0,0))\n",
    "m.display()\n",
    "m.cheat()"
   ]
  },
  {
   "cell_type": "markdown",
   "metadata": {},
   "source": [
    "## class - MineSweeperSolver"
   ]
  },
  {
   "cell_type": "markdown",
   "metadata": {},
   "source": [
    "<p style=\"font-size:2pt\">如果遊戲設計可以保證在第一步踩到0（開一小塊），那解開的機會就會提高不少 </p>"
   ]
  },
  {
   "cell_type": "code",
   "execution_count": 5,
   "metadata": {},
   "outputs": [],
   "source": [
    "class MineSweeperSolver:\n",
    "    def __init__(self, game):\n",
    "        self.game = game\n",
    "        self.remaining_mine  = game.num_mine\n",
    "        self.uncovered = set()\n",
    "        self.covered = {(i, j) for i in range(game.size[0]) for j in range(game.size[1])}\n",
    "        \n",
    "        \n",
    "    def solve(self):\n",
    "        self.uncover((0, 0))\n",
    "        self.uncover((self.game.size[0]//2, 0))\n",
    "        self.uncover((0, self.game.size[0]//2))\n",
    "        self.uncover((self.game.size[0]//2, self.game.size[0]//2))\n",
    "        if self.game.isLose():\n",
    "            print(\"fail to solve Q_____Q\")\n",
    "            return\n",
    "        \n",
    "        while not self.game.isWin() and not self.game.isLose():\n",
    "            continue_while = False\n",
    "            min_prob = self.remaining_mine / len(self.covered)\n",
    "            covered_margin = set()\n",
    "            pos_to_prob = dict()\n",
    "            for i in self.uncovered:\n",
    "                covered_neighbors = [((i[0]+di+self.game.size[0]) % self.game.size[0], (i[1]+dj+self.game.size[1]) %self.game.size[1]) for di in [-1, 0, 1] for dj in [-1, 0, 1] if ((i[0]+di+self.game.size[0]) % self.game.size[0], (i[1]+dj+self.game.size[1]) %self.game.size[1]) in self.covered]\n",
    "                covered_margin = covered_margin | set(covered_neighbors)\n",
    "                if not covered_neighbors:\n",
    "                    self.uncovered.remove(i)\n",
    "                    continue_while = True\n",
    "                    break\n",
    "                prob = (self.game.mask_board[i[0]][i[1]] - len([((i[0]+di+self.game.size[0]) % self.game.size[0], (i[1]+dj+self.game.size[1]) %self.game.size[1]) for di in [-1, 0, 1] for dj in [-1, 0, 1] if self.game.mask_board[(i[0]+di+self.game.size[0]) % self.game.size[0]][(i[1]+dj+self.game.size[1]) %self.game.size[1]] == state.FLAG])) / len(covered_neighbors)\n",
    "                \n",
    "                if prob > 0.99:\n",
    "                    for j in covered_neighbors:\n",
    "                        self.flag(j)\n",
    "                    self.uncovered.remove(i)\n",
    "                    continue_while = True\n",
    "                    break\n",
    "                elif prob < 0.01:\n",
    "                    for j in covered_neighbors:\n",
    "                        self.uncover(j)\n",
    "                    self.uncovered.remove(i)\n",
    "                    continue_while = True\n",
    "                    break\n",
    "                elif prob <= min_prob:\n",
    "                    for j in covered_neighbors:\n",
    "                        pos_to_prob[j] = prob\n",
    "                else:\n",
    "                    for j in covered_neighbors:\n",
    "                        if j in pos_to_prob:\n",
    "                            pos_to_prob.pop(j, None)\n",
    "            if continue_while:\n",
    "                continue\n",
    "            if pos_to_prob:\n",
    "                min_prob = min([pos_to_prob[j] for j in pos_to_prob])\n",
    "                min_pos = [j for j in pos_to_prob if pos_to_prob[j] == min_prob]\n",
    "                self.uncover(min_pos[0])\n",
    "            else:\n",
    "                for i in self.covered - covered_margin:\n",
    "                    self.uncover(i)\n",
    "                    break\n",
    "        if self.game.isWin():\n",
    "            print(\"Problem Solved\")\n",
    "        elif self.game.isLose():\n",
    "            print(\"fail to solve Q_____Q\")\n",
    "    def uncover(self, position): \n",
    "        position = ((position[0] + self.game.size[0])%self.game.size[0], (position[1] + self.game.size[1])%self.game.size[1])\n",
    "        if position not in self.covered:\n",
    "            return\n",
    "        \n",
    "        self.covered.remove(position)\n",
    "        self.game.uncover(position)\n",
    "        if self.game.mask_board[position[0]][position[1]] == 0:\n",
    "            for di in [-1, 0, 1]:\n",
    "                for dj in [-1, 0, 1]:\n",
    "                    self.uncover((position[0] + di, position[1] + dj))\n",
    "        else:\n",
    "            self.uncovered.add(position)\n",
    "        \n",
    "    def flag(self, position):\n",
    "        position = ((position[0] + self.game.size[0])%self.game.size[0], (position[1] + self.game.size[1])%self.game.size[1])\n",
    "        self.game.flag(position)\n",
    "        self.remaining_mine -= 1\n",
    "        self.covered.remove(position)"
   ]
  },
  {
   "cell_type": "markdown",
   "metadata": {},
   "source": [
    "### 開一個新的遊戲，然後餵給Solver"
   ]
  },
  {
   "cell_type": "code",
   "execution_count": 6,
   "metadata": {},
   "outputs": [],
   "source": [
    "m = MineSweeperCircular(difficulty = 'expert')\n",
    "s = solver(m)"
   ]
  },
  {
   "cell_type": "code",
   "execution_count": 7,
   "metadata": {},
   "outputs": [
    {
     "name": "stdout",
     "output_type": "stream",
     "text": [
      "You Win!!!!!\n",
      "If you want to restart, type : >>> s.initialize(difficulty = ??)\n",
      "Problem Solved\n"
     ]
    }
   ],
   "source": [
    "s.solve()"
   ]
  },
  {
   "cell_type": "markdown",
   "metadata": {},
   "source": [
    "### 展示解出來的成果 ☆ * \" ` ' * - . , _ , . - * ' ` \" * - . , _ ☆（f 為標記地雷的位置）"
   ]
  },
  {
   "cell_type": "code",
   "execution_count": 8,
   "metadata": {},
   "outputs": [
    {
     "data": {
      "text/plain": [
       "MineSweeperCircular\n",
       "       0  1  2  3  4  5  6  7  8  9 10 11 12 13 14 15 16 17 18 19 20 21 22 23\n",
       "     ________________________________________________________________________\n",
       "\n",
       " 0|    3  f  f  2  0  0  0  1  f  f  4  f  1  1  f  2  2  f  1  0  1  f  2  2\n",
       " 1|    2  3  3  2  0  0  1  2  4  f  f  4  2  1  1  1  1  1  1  0  1  1  2  f\n",
       " 2|    2  1  f  1  0  1  2  f  2  4  f  f  1  1  1  1  1  1  1  1  1  1  2  2\n",
       " 3|    2  1  1  1  0  1  f  2  1  2  f  4  3  3  f  2  1  f  2  3  f  2  2  f\n",
       " 4|    3  0  0  1  1  2  1  1  0  1  2  f  3  f  f  2  1  3  f  4  f  2  3  f\n",
       " 5|    3  0  0  1  f  1  0  0  0  1  2  2  3  f  3  1  0  3  f  4  2  2  4  f\n",
       " 6|    2  0  1  3  3  3  1  1  0  1  f  1  1  1  1  0  0  3  f  3  2  f  4  f\n",
       " 7|    1  1  2  f  f  3  f  2  0  1  1  2  1  1  0  0  0  2  f  2  2  f  3  1\n",
       " 8|    1  2  f  3  2  3  f  3  2  3  2  2  f  1  0  0  0  2  2  2  1  1  1  1\n",
       " 9|    f  2  1  1  0  1  1  2  f  f  f  3  1  1  0  0  0  1  f  1  0  0  0  1\n",
       "10|    1  2  2  2  2  1  1  1  2  4  f  2  0  0  0  0  0  1  1  1  0  0  0  1\n",
       "11|    0  2  f  f  3  f  2  0  0  1  1  1  0  0  0  0  0  0  0  0  0  0  0  0\n",
       "12|    0  2  f  3  3  f  2  0  0  1  1  2  1  2  2  2  1  0  0  1  1  1  0  0\n",
       "13|    1  1  1  2  2  2  1  0  0  1  f  2  f  3  f  f  1  0  0  1  f  1  1  1\n",
       "14|    1  0  0  2  f  2  0  0  0  1  1  2  2  f  3  2  1  0  0  1  1  2  2  f\n",
       "15|    1  1  1  3  f  2  0  0  0  0  0  0  1  1  1  0  0  0  0  0  0  1  f  2\n",
       "16|    0  1  f  3  2  2  0  0  0  0  1  1  1  1  1  2  1  1  0  0  0  1  1  1\n",
       "17|    0  1  2  4  f  2  1  1  1  0  1  f  2  2  f  3  f  2  1  2  1  1  0  0\n",
       "18|    0  0  1  f  f  2  1  f  1  1  2  3  f  3  4  f  3  2  f  2  f  1  0  0\n",
       "19|    2  3  3  3  3  2  2  1  1  2  f  4  2  3  f  f  3  3  2  3  1  1  0  1\n",
       "20|    f  f  f  2  2  f  3  1  1  3  f  3  f  3  3  5  f  4  f  2  1  1  1  1\n",
       "21|    2  4  f  2  2  f  f  2  1  f  2  2  1  2  f  3  f  4  f  2  1  f  1  1\n",
       "22|    1  3  2  2  1  3  f  2  1  1  1  0  0  1  2  3  2  2  1  1  1  1  1  1\n",
       "23|    f  4  f  2  0  1  1  2  2  2  2  1  1  1  2  f  2  1  1  0  1  1  1  1\n",
       "\n",
       "\n",
       "剩餘地雷：0\n"
      ]
     },
     "execution_count": 8,
     "metadata": {},
     "output_type": "execute_result"
    }
   ],
   "source": [
    "m"
   ]
  }
 ],
 "metadata": {
  "kernelspec": {
   "display_name": "Python 3",
   "language": "python",
   "name": "python3"
  },
  "language_info": {
   "codemirror_mode": {
    "name": "ipython",
    "version": 3
   },
   "file_extension": ".py",
   "mimetype": "text/x-python",
   "name": "python",
   "nbconvert_exporter": "python",
   "pygments_lexer": "ipython3",
   "version": "3.6.5"
  }
 },
 "nbformat": 4,
 "nbformat_minor": 2
}
