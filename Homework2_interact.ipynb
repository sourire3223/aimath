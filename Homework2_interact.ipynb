{
 "cells": [
  {
   "cell_type": "code",
   "execution_count": 1,
   "metadata": {},
   "outputs": [
    {
     "name": "stdout",
     "output_type": "stream",
     "text": [
      "Populating the interactive namespace from numpy and matplotlib\n"
     ]
    }
   ],
   "source": [
    "import numpy as np\n",
    "from numpy import random\n",
    "import matplotlib.pyplot as plt\n",
    "import pandas as pd\n",
    "import csv\n",
    "from ipywidgets import interact\n",
    "% matplotlib inline\n",
    "% pylab inline"
   ]
  },
  {
   "cell_type": "code",
   "execution_count": 124,
   "metadata": {},
   "outputs": [
    {
     "name": "stdout",
     "output_type": "stream",
     "text": [
      "Populating the interactive namespace from numpy and matplotlib\n"
     ]
    }
   ],
   "source": [
    "\"\"\"\n",
    "Use discrete geometric Brownian motion to simulate the exchange rate of BTC to USD(2018/3/11 - 2019/3/11).\n",
    "If you re-drag the sliders, there will be a new simulation start from the point you start to drag to the point you stop at.\n",
    "\"\"\"\n",
    "import numpy as np\n",
    "from numpy import random\n",
    "import matplotlib.pyplot as plt\n",
    "import pandas as pd\n",
    "import csv\n",
    "from ipywidgets import interact\n",
    "% matplotlib inline\n",
    "% pylab inline\n",
    "\n",
    "meanOfLogReturn = -0.0024271420495890405\n",
    "varianceOfLogReturn = 0.0012337557820615763\n",
    "stockPrice_0 = 9544.84\n",
    "df = pd.read_csv(\"BTC-USD.csv\", sep = ',')\n",
    "\n",
    "W = [0]\n",
    "stockPrice = []\n",
    "def drawBrownian(t):\n",
    "    global n, s, r, W, stockPrice\n",
    "    t_previous = len(W) - 1\n",
    "    if t_previous > t:\n",
    "        W = W[:t+1]\n",
    "    elif t_previous < t:\n",
    "        dW = random.randn(1, t - t_previous)*np.sqrt(varianceOfLogReturn)\n",
    "        W = np.append(W, np.cumsum(dW) + W[-1])\n",
    "    plt.plot(stockPrice_0 * np.exp(meanOfLogReturn * np.array(range(t+1)) + np.array(W)).T, linewidth = 3)\n",
    "    plt.plot(df['Close'], linewidth = 3)\n",
    "    plt.xlim([-1, 367])\n",
    "    plt.ylim([0.2*stockPrice_0, 1.6* stockPrice_0])\n",
    "    fig = plt.gcf()\n",
    "    fig.set_size_inches(16, 9)\n",
    "    plt.show()"
   ]
  },
  {
   "cell_type": "code",
   "execution_count": 125,
   "metadata": {},
   "outputs": [
    {
     "data": {
      "application/vnd.jupyter.widget-view+json": {
       "model_id": "bff1ea955649496fa3442fbf7b878042",
       "version_major": 2,
       "version_minor": 0
      },
      "text/plain": [
       "interactive(children=(IntSlider(value=182, description='t', max=365, step=13), Output()), _dom_classes=('widge…"
      ]
     },
     "metadata": {},
     "output_type": "display_data"
    },
    {
     "data": {
      "text/plain": [
       "<function __main__.drawBrownian(t)>"
      ]
     },
     "execution_count": 125,
     "metadata": {},
     "output_type": "execute_result"
    }
   ],
   "source": [
    "interact(drawBrownian, t = (0, 365, 13))"
   ]
  },
  {
   "cell_type": "code",
   "execution_count": 105,
   "metadata": {},
   "outputs": [],
   "source": [
    "stockPrice\n",
    "LR = []\n",
    "for i in range(1, len(stockPrice)):\n",
    "    LR.append(np.log(stockPrice[i]/stockPrice[i-1]))"
   ]
  },
  {
   "cell_type": "code",
   "execution_count": 106,
   "metadata": {},
   "outputs": [],
   "source": [
    "LR = np.array(LR)\n",
    "mm = np.sum(LR) / len(LR)\n",
    "vv = (LR.dot(LR) - len(LR)*mm**2) / (len(LR) - 1)"
   ]
  },
  {
   "cell_type": "code",
   "execution_count": 107,
   "metadata": {},
   "outputs": [
    {
     "data": {
      "text/plain": [
       "-0.002632178213623074"
      ]
     },
     "execution_count": 107,
     "metadata": {},
     "output_type": "execute_result"
    }
   ],
   "source": [
    "mm"
   ]
  },
  {
   "cell_type": "code",
   "execution_count": 108,
   "metadata": {},
   "outputs": [
    {
     "data": {
      "text/plain": [
       "0.0012329751787209904"
      ]
     },
     "execution_count": 108,
     "metadata": {},
     "output_type": "execute_result"
    }
   ],
   "source": [
    "vv"
   ]
  },
  {
   "cell_type": "code",
   "execution_count": null,
   "metadata": {},
   "outputs": [],
   "source": []
  }
 ],
 "metadata": {
  "kernelspec": {
   "display_name": "Python 3",
   "language": "python",
   "name": "python3"
  },
  "language_info": {
   "codemirror_mode": {
    "name": "ipython",
    "version": 3
   },
   "file_extension": ".py",
   "mimetype": "text/x-python",
   "name": "python",
   "nbconvert_exporter": "python",
   "pygments_lexer": "ipython3",
   "version": "3.6.5"
  }
 },
 "nbformat": 4,
 "nbformat_minor": 2
}
