{
 "cells": [
  {
   "cell_type": "markdown",
   "metadata": {},
   "source": [
    "# Discover The Relation Between Sex Ratio And Weight Of Advanced Subjects Test Grade"
   ]
  },
  {
   "cell_type": "markdown",
   "metadata": {},
   "source": [
    "## import packages"
   ]
  },
  {
   "cell_type": "code",
   "execution_count": 1,
   "metadata": {},
   "outputs": [],
   "source": [
    "import numpy as np\n",
    "import pandas as pd\n",
    "import tabula\n",
    "from sklearn.linear_model import LinearRegression"
   ]
  },
  {
   "cell_type": "markdown",
   "metadata": {},
   "source": [
    "## read table of weight of AST(Advanced Subjects Test) Grade"
   ]
  },
  {
   "cell_type": "code",
   "execution_count": 2,
   "metadata": {},
   "outputs": [],
   "source": [
    "weightList = tabula.read_pdf(\"https://www.uac.edu.tw/107data/107_02.pdf\", multiple_tables=True, pages = 'all')\n",
    "newList = []\n",
    "for df in weightList:\n",
    "    colnames = []\n",
    "    for col in df:\n",
    "        if str(df[col][5]) != \"nan\":\n",
    "            colnames.append(col)\n",
    "    newList.append(df[colnames])\n",
    "newList = [weight.iloc[3:, [1,2,3]] for weight in newList]\n",
    "for df in newList:\n",
    "    df.columns = [\"校名\", \"系組名\", \"採計\"]\n",
    "weight = pd.concat(newList, axis = 0)\n",
    "\n",
    "weight[\"國\"] = weight[\"採計\"].apply(lambda x : 0.0 if x.find(\"國\") == -1 else float(x[x.find(\"國\") + 2 : x.find(\"國\") + 6]))\n",
    "weight[\"英\"] = weight[\"採計\"].apply(lambda x : 0.0 if x.find(\"英\") == -1 else float(x[x.find(\"英\") + 2 : x.find(\"英\") + 6]))\n",
    "weight[\"數甲\"] = weight[\"採計\"].apply(lambda x : 0.0 if x.find(\"數甲\") == -1 else float(x[x.find(\"數甲\") + 3 : x.find(\"數甲\") + 7]))\n",
    "weight[\"數乙\"] = weight[\"採計\"].apply(lambda x : 0.0 if x.find(\"數乙\") == -1 else float(x[x.find(\"數乙\") + 3 : x.find(\"數乙\") + 7]))\n",
    "weight[\"歷\"] = weight[\"採計\"].apply(lambda x : 0.0 if x.find(\"歷\") == -1 else float(x[x.find(\"歷\") + 2 : x.find(\"歷\") + 6]))\n",
    "weight[\"地\"] = weight[\"採計\"].apply(lambda x : 0.0 if x.find(\"地\") == -1 else float(x[x.find(\"地\") + 2 : x.find(\"地\") + 6]))\n",
    "weight[\"公\"] = weight[\"採計\"].apply(lambda x : 0.0 if x.find(\"公\") == -1 else float(x[x.find(\"公\") + 2 : x.find(\"公\") + 6]))\n",
    "weight[\"物\"] = weight[\"採計\"].apply(lambda x : 0.0 if x.find(\"物\") == -1 else float(x[x.find(\"物\") + 2 : x.find(\"物\") + 6]))\n",
    "weight[\"化\"] = weight[\"採計\"].apply(lambda x : 0.0 if x.find(\"化\") == -1 else float(x[x.find(\"化\") + 2 : x.find(\"化\") + 6]))\n",
    "weight[\"生\"] = weight[\"採計\"].apply(lambda x : 0.0 if x.find(\"生\") == -1 else float(x[x.find(\"生\") + 2 : x.find(\"生\") + 6]))\n",
    "weight[\"術科\"] = weight[\"採計\"].apply(lambda x : 0.0 if x.find(\"術科\") == -1 else float(x[x.find(\"術科\") + 3 : x.find(\"術科\") + 7]))"
   ]
  },
  {
   "cell_type": "markdown",
   "metadata": {},
   "source": [
    "## read the table of sex ratio of university-departments "
   ]
  },
  {
   "cell_type": "code",
   "execution_count": 3,
   "metadata": {},
   "outputs": [],
   "source": [
    "gender = pd.read_csv(\"./107_students.csv\")    # the website is under maintenance\n",
    "gender.columns = gender.loc[1, :]\n",
    "gender = gender[(gender[\"日間∕進修別\"] == \"D 日\") & (gender.等級別 == \"B 學士\") & (gender.總計 != \"-\")]\n",
    "gender = gender.loc[2:, [\"學校名稱\", \"科系名稱\", \"男生計\", \"女生計\"]]\n",
    "gender.男生計 = gender.男生計.apply(lambda x : float(x.replace(',', '')) if x != \"-\" else 0)\n",
    "gender.女生計 = gender.女生計.apply(lambda x : float(x.replace(',', '')) if x != \"-\" else 0)\n",
    "gender[\"性別比\"] = gender.男生計 / gender.女生計"
   ]
  },
  {
   "cell_type": "markdown",
   "metadata": {},
   "source": [
    "## combine the tables"
   ]
  },
  {
   "cell_type": "code",
   "execution_count": 5,
   "metadata": {},
   "outputs": [],
   "source": [
    "weightGender = []\n",
    "for gindex, grow in gender.iterrows():\n",
    "    for windex, wrow in weight.iterrows():\n",
    "        if grow[\"學校名稱\"] == wrow[\"校名\"] and grow[\"科系名稱\"] == wrow[\"系組名\"]:\n",
    "            weightGender.append([grow[\"學校名稱\"], grow[\"科系名稱\"], grow[\"性別比\"], *(list(wrow[\"國\" : \"術科\"]))])\n",
    "weightGender = pd.DataFrame(weightGender, columns = [\"校名\", \"系名\", \"性別比\", *(list(weight.columns.values[3:]))])"
   ]
  },
  {
   "cell_type": "code",
   "execution_count": 12,
   "metadata": {},
   "outputs": [
    {
     "data": {
      "text/html": [
       "<div>\n",
       "<style scoped>\n",
       "    .dataframe tbody tr th:only-of-type {\n",
       "        vertical-align: middle;\n",
       "    }\n",
       "\n",
       "    .dataframe tbody tr th {\n",
       "        vertical-align: top;\n",
       "    }\n",
       "\n",
       "    .dataframe thead th {\n",
       "        text-align: right;\n",
       "    }\n",
       "</style>\n",
       "<table border=\"1\" class=\"dataframe\">\n",
       "  <thead>\n",
       "    <tr style=\"text-align: right;\">\n",
       "      <th></th>\n",
       "      <th>校名</th>\n",
       "      <th>系名</th>\n",
       "      <th>性別比</th>\n",
       "      <th>國</th>\n",
       "      <th>英</th>\n",
       "      <th>數甲</th>\n",
       "      <th>數乙</th>\n",
       "      <th>歷</th>\n",
       "      <th>地</th>\n",
       "      <th>公</th>\n",
       "      <th>物</th>\n",
       "      <th>化</th>\n",
       "      <th>生</th>\n",
       "      <th>術科</th>\n",
       "    </tr>\n",
       "  </thead>\n",
       "  <tbody>\n",
       "    <tr>\n",
       "      <th>0</th>\n",
       "      <td>國立政治大學</td>\n",
       "      <td>教育學系</td>\n",
       "      <td>0.422619</td>\n",
       "      <td>1.25</td>\n",
       "      <td>2.00</td>\n",
       "      <td>0.0</td>\n",
       "      <td>1.00</td>\n",
       "      <td>1.0</td>\n",
       "      <td>0.0</td>\n",
       "      <td>1.00</td>\n",
       "      <td>0.0</td>\n",
       "      <td>0.0</td>\n",
       "      <td>0.0</td>\n",
       "      <td>0.0</td>\n",
       "    </tr>\n",
       "    <tr>\n",
       "      <th>1</th>\n",
       "      <td>國立政治大學</td>\n",
       "      <td>歷史學系</td>\n",
       "      <td>1.881356</td>\n",
       "      <td>1.00</td>\n",
       "      <td>1.00</td>\n",
       "      <td>0.0</td>\n",
       "      <td>1.00</td>\n",
       "      <td>1.5</td>\n",
       "      <td>1.0</td>\n",
       "      <td>0.00</td>\n",
       "      <td>0.0</td>\n",
       "      <td>0.0</td>\n",
       "      <td>0.0</td>\n",
       "      <td>0.0</td>\n",
       "    </tr>\n",
       "    <tr>\n",
       "      <th>2</th>\n",
       "      <td>國立政治大學</td>\n",
       "      <td>民族學系</td>\n",
       "      <td>0.762376</td>\n",
       "      <td>1.00</td>\n",
       "      <td>1.00</td>\n",
       "      <td>0.0</td>\n",
       "      <td>0.00</td>\n",
       "      <td>0.0</td>\n",
       "      <td>0.0</td>\n",
       "      <td>1.25</td>\n",
       "      <td>0.0</td>\n",
       "      <td>0.0</td>\n",
       "      <td>0.0</td>\n",
       "      <td>0.0</td>\n",
       "    </tr>\n",
       "    <tr>\n",
       "      <th>3</th>\n",
       "      <td>國立政治大學</td>\n",
       "      <td>哲學系</td>\n",
       "      <td>1.129412</td>\n",
       "      <td>1.25</td>\n",
       "      <td>1.25</td>\n",
       "      <td>0.0</td>\n",
       "      <td>1.25</td>\n",
       "      <td>1.0</td>\n",
       "      <td>0.0</td>\n",
       "      <td>1.00</td>\n",
       "      <td>0.0</td>\n",
       "      <td>0.0</td>\n",
       "      <td>0.0</td>\n",
       "      <td>0.0</td>\n",
       "    </tr>\n",
       "    <tr>\n",
       "      <th>4</th>\n",
       "      <td>國立政治大學</td>\n",
       "      <td>英國語文學系</td>\n",
       "      <td>0.425234</td>\n",
       "      <td>1.50</td>\n",
       "      <td>2.00</td>\n",
       "      <td>0.0</td>\n",
       "      <td>1.00</td>\n",
       "      <td>1.0</td>\n",
       "      <td>1.0</td>\n",
       "      <td>0.00</td>\n",
       "      <td>0.0</td>\n",
       "      <td>0.0</td>\n",
       "      <td>0.0</td>\n",
       "      <td>0.0</td>\n",
       "    </tr>\n",
       "  </tbody>\n",
       "</table>\n",
       "</div>"
      ],
      "text/plain": [
       "       校名      系名       性別比     國     英   數甲    數乙    歷    地     公    物    化  \\\n",
       "0  國立政治大學    教育學系  0.422619  1.25  2.00  0.0  1.00  1.0  0.0  1.00  0.0  0.0   \n",
       "1  國立政治大學    歷史學系  1.881356  1.00  1.00  0.0  1.00  1.5  1.0  0.00  0.0  0.0   \n",
       "2  國立政治大學    民族學系  0.762376  1.00  1.00  0.0  0.00  0.0  0.0  1.25  0.0  0.0   \n",
       "3  國立政治大學     哲學系  1.129412  1.25  1.25  0.0  1.25  1.0  0.0  1.00  0.0  0.0   \n",
       "4  國立政治大學  英國語文學系  0.425234  1.50  2.00  0.0  1.00  1.0  1.0  0.00  0.0  0.0   \n",
       "\n",
       "     生   術科  \n",
       "0  0.0  0.0  \n",
       "1  0.0  0.0  \n",
       "2  0.0  0.0  \n",
       "3  0.0  0.0  \n",
       "4  0.0  0.0  "
      ]
     },
     "execution_count": 12,
     "metadata": {},
     "output_type": "execute_result"
    }
   ],
   "source": [
    "weightGender.head()"
   ]
  },
  {
   "cell_type": "markdown",
   "metadata": {},
   "source": [
    "## construct regression model"
   ]
  },
  {
   "cell_type": "code",
   "execution_count": 10,
   "metadata": {},
   "outputs": [
    {
     "data": {
      "text/html": [
       "<div>\n",
       "<style scoped>\n",
       "    .dataframe tbody tr th:only-of-type {\n",
       "        vertical-align: middle;\n",
       "    }\n",
       "\n",
       "    .dataframe tbody tr th {\n",
       "        vertical-align: top;\n",
       "    }\n",
       "\n",
       "    .dataframe thead th {\n",
       "        text-align: right;\n",
       "    }\n",
       "</style>\n",
       "<table border=\"1\" class=\"dataframe\">\n",
       "  <thead>\n",
       "    <tr style=\"text-align: right;\">\n",
       "      <th></th>\n",
       "      <th>0</th>\n",
       "      <th>1</th>\n",
       "      <th>2</th>\n",
       "      <th>3</th>\n",
       "      <th>4</th>\n",
       "      <th>5</th>\n",
       "      <th>6</th>\n",
       "      <th>7</th>\n",
       "      <th>8</th>\n",
       "      <th>9</th>\n",
       "      <th>10</th>\n",
       "    </tr>\n",
       "  </thead>\n",
       "  <tbody>\n",
       "    <tr>\n",
       "      <th>0</th>\n",
       "      <td>國</td>\n",
       "      <td>英</td>\n",
       "      <td>數甲</td>\n",
       "      <td>數乙</td>\n",
       "      <td>歷</td>\n",
       "      <td>地</td>\n",
       "      <td>公</td>\n",
       "      <td>物</td>\n",
       "      <td>化</td>\n",
       "      <td>生</td>\n",
       "      <td>術科</td>\n",
       "    </tr>\n",
       "    <tr>\n",
       "      <th>1</th>\n",
       "      <td>0.7203516208537517</td>\n",
       "      <td>-0.38497306850780855</td>\n",
       "      <td>0.7322896401571453</td>\n",
       "      <td>-0.005205131533560685</td>\n",
       "      <td>-0.48749279263800527</td>\n",
       "      <td>-0.08690110226620124</td>\n",
       "      <td>-0.3383614659933974</td>\n",
       "      <td>1.4130321379615958</td>\n",
       "      <td>-0.04683830286970279</td>\n",
       "      <td>-0.75451976775098</td>\n",
       "      <td>-0.28100179128870834</td>\n",
       "    </tr>\n",
       "  </tbody>\n",
       "</table>\n",
       "</div>"
      ],
      "text/plain": [
       "                   0                     1                   2   \\\n",
       "0                   國                     英                  數甲   \n",
       "1  0.7203516208537517  -0.38497306850780855  0.7322896401571453   \n",
       "\n",
       "                      3                     4                     5   \\\n",
       "0                     數乙                     歷                     地   \n",
       "1  -0.005205131533560685  -0.48749279263800527  -0.08690110226620124   \n",
       "\n",
       "                    6                   7                     8   \\\n",
       "0                    公                   物                     化   \n",
       "1  -0.3383614659933974  1.4130321379615958  -0.04683830286970279   \n",
       "\n",
       "                  9                     10  \n",
       "0                  生                    術科  \n",
       "1  -0.75451976775098  -0.28100179128870834  "
      ]
     },
     "execution_count": 10,
     "metadata": {},
     "output_type": "execute_result"
    }
   ],
   "source": [
    "regr = LinearRegression()\n",
    "regr.fit(weightGender.loc[:, \"國\":\"術科\"], weightGender.性別比)\n",
    "pd.DataFrame(np.array([[*(list(weight.columns.values[3:]))], regr.coef_]))\n",
    "# Physics is most postitvely related and Biology is most negatively related "
   ]
  }
 ],
 "metadata": {
  "kernelspec": {
   "display_name": "Python 3",
   "language": "python",
   "name": "python3"
  },
  "language_info": {
   "codemirror_mode": {
    "name": "ipython",
    "version": 3
   },
   "file_extension": ".py",
   "mimetype": "text/x-python",
   "name": "python",
   "nbconvert_exporter": "python",
   "pygments_lexer": "ipython3",
   "version": "3.6.5"
  }
 },
 "nbformat": 4,
 "nbformat_minor": 2
}
